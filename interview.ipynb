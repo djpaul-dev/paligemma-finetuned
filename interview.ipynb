{
 "cells": [
  {
   "cell_type": "markdown",
   "metadata": {},
   "source": [
    "### Solution during Interview"
   ]
  },
  {
   "cell_type": "code",
   "execution_count": 1,
   "metadata": {},
   "outputs": [
    {
     "name": "stdout",
     "output_type": "stream",
     "text": [
      "Input 124: Expected Output: 4; Actual Output 4\n",
      "Input 14: Expected Output: 4; Actual Output 4\n",
      "Input 111: Expected Output: 1; Actual Output 1\n",
      "Input 50: Expected Output: 5; Actual Output 7\n"
     ]
    }
   ],
   "source": [
    "# input: 14\n",
    "# output: (11, 1, 1, 1)\n",
    "\n",
    "# 124 --> 111, 11, 1, 1\n",
    "\n",
    "def f(num):\n",
    "    n = len(str(num))  # digit count\n",
    "    divisor = \"1\" * n\n",
    "    divisor = int(divisor)\n",
    "    count = 0\n",
    "    while divisor != 1:\n",
    "        if divisor > num:\n",
    "            divisor = int(str(divisor)[:-1])\n",
    "            continue\n",
    "        num = num % divisor\n",
    "        divisor = int(str(divisor)[:-1])  # drop a 1 from the end\n",
    "        # print(divisor)\n",
    "        count += 1\n",
    "    \n",
    "    count += num\n",
    "    return count\n",
    "\n",
    "print(f\"Input 124: Expected Output: {4}; Actual Output {f(124)}\")  # Actual Output: 4\n",
    "print(f\"Input 14: Expected Output: {4}; Actual Output {f(14)}\")  # Actual Output: 4\n",
    "print(f\"Input 111: Expected Output: {1}; Actual Output {f(1)}\")  # Actual Output: 1\n",
    "print(f\"Input 50: Expected Output: {5}; Actual Output {f(50)}\")  # Actual Output: 7"
   ]
  },
  {
   "cell_type": "markdown",
   "metadata": {},
   "source": [
    "### Revised Solution"
   ]
  },
  {
   "cell_type": "code",
   "execution_count": 2,
   "metadata": {},
   "outputs": [
    {
     "name": "stdout",
     "output_type": "stream",
     "text": [
      "Input 124: Expected Output: 4; Actual Output 4\n",
      "Input 14: Expected Output: 4; Actual Output 4\n",
      "Input 111: Expected Output: 1; Actual Output 1\n",
      "Input 50: Expected Output: 5; Actual Output 5\n"
     ]
    }
   ],
   "source": [
    "def g(n):\n",
    "    result = []\n",
    "    while n > 0:\n",
    "        m = int('1' + '0' * (len(str(n)) - 1))\n",
    "        while m > n:\n",
    "            m //= 10\n",
    "        n -= m\n",
    "        result.append(m)\n",
    "        \n",
    "    one_count = result.count(1)\n",
    "    return max(len(result) - one_count, one_count)\n",
    "\n",
    "print(f\"Input 124: Expected Output: {4}; Actual Output {g(124)}\")  # Actual Output: 4\n",
    "print(f\"Input 14: Expected Output: {4}; Actual Output {g(14)}\")  # Actual Output: 4\n",
    "print(f\"Input 111: Expected Output: {1}; Actual Output {g(1)}\")  # Actual Output: 1\n",
    "print(f\"Input 50: Expected Output: {5}; Actual Output {g(50)}\")  # Actual Output: 5"
   ]
  }
 ],
 "metadata": {
  "kernelspec": {
   "display_name": "Python 3",
   "language": "python",
   "name": "python3"
  },
  "language_info": {
   "codemirror_mode": {
    "name": "ipython",
    "version": 3
   },
   "file_extension": ".py",
   "mimetype": "text/x-python",
   "name": "python",
   "nbconvert_exporter": "python",
   "pygments_lexer": "ipython3",
   "version": "3.10.12"
  }
 },
 "nbformat": 4,
 "nbformat_minor": 2
}
